{
 "cells": [
  {
   "cell_type": "code",
   "execution_count": 5,
   "id": "6ed82e1d-457a-4443-8904-b321cd41dd84",
   "metadata": {},
   "outputs": [
    {
     "name": "stdin",
     "output_type": "stream",
     "text": [
      "Enter text:  anu\n",
      "Enter shift value:  3\n",
      "Choose operation (encrypt/decrypt):  decrypt\n"
     ]
    },
    {
     "name": "stdout",
     "output_type": "stream",
     "text": [
      "Result: xkr\n"
     ]
    }
   ],
   "source": [
    "def caesar_cipher(text, shift, mode=\"encrypt\"):\n",
    "    result = \"\"\n",
    "    if mode == \"decrypt\":\n",
    "        shift = -shift  # Reverse shift for decryption\n",
    "    \n",
    "    for char in text:\n",
    "        if char.isalpha():\n",
    "            base = ord('A') if char.isupper() else ord('a')\n",
    "            result += chr((ord(char) - base + shift) % 26 + base)\n",
    "        else:\n",
    "            result += char  # Keep spaces and symbols unchanged\n",
    "    \n",
    "    return result\n",
    "\n",
    "# User input\n",
    "text = input(\"Enter text: \")\n",
    "shift = int(input(\"Enter shift value: \"))\n",
    "choice = input(\"Choose operation (encrypt/decrypt): \").lower()\n",
    "\n",
    "if choice in [\"encrypt\", \"decrypt\"]:\n",
    "    print(f\"Result: {caesar_cipher(text, shift, choice)}\")\n",
    "else:\n",
    "    print(\"Invalid choice.\")\n"
   ]
  },
  {
   "cell_type": "code",
   "execution_count": null,
   "id": "5dcf5ccc-10f1-4c14-892f-a0a0451fc96f",
   "metadata": {},
   "outputs": [],
   "source": []
  }
 ],
 "metadata": {
  "kernelspec": {
   "display_name": "Python [conda env:base] *",
   "language": "python",
   "name": "conda-base-py"
  },
  "language_info": {
   "codemirror_mode": {
    "name": "ipython",
    "version": 3
   },
   "file_extension": ".py",
   "mimetype": "text/x-python",
   "name": "python",
   "nbconvert_exporter": "python",
   "pygments_lexer": "ipython3",
   "version": "3.12.7"
  }
 },
 "nbformat": 4,
 "nbformat_minor": 5
}
